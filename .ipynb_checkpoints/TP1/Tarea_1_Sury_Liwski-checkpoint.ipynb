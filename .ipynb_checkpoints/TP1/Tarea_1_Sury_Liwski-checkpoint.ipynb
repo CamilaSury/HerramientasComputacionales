{
 "cells": [
  {
   "cell_type": "markdown",
   "metadata": {
    "colab_type": "text",
    "id": "view-in-github"
   },
   "source": [
    "<a href=\"https://colab.research.google.com/github/CamilaSury/HerramientasComputacionales/blob/main/Tarea_1_Sury_Liwski.ipynb\" target=\"_parent\"><img src=\"https://colab.research.google.com/assets/colab-badge.svg\" alt=\"Open In Colab\"/></a>"
   ]
  },
  {
   "cell_type": "markdown",
   "metadata": {
    "id": "LUdy1knGuZzU"
   },
   "source": [
    "# Tarea 1 - Herramientas Computacionales Para la Investigación\n",
    "## Sury - Liwski\n"
   ]
  },
  {
   "cell_type": "code",
   "execution_count": null,
   "metadata": {
    "id": "21s05sMatDRo"
   },
   "outputs": [],
   "source": [
    "# Importamos los paquetes a utilizar \n",
    "import pandas as pd\n",
    "import numpy as np"
   ]
  },
  {
   "cell_type": "code",
   "execution_count": null,
   "metadata": {
    "colab": {
     "base_uri": "https://localhost:8080/",
     "height": 206
    },
    "id": "osSFE-6EvxCR",
    "outputId": "86aee331-f73f-4c46-f8b9-5e68cb812e32"
   },
   "outputs": [],
   "source": [
    "# Inciso 1: leemos tareas.csv y mostramos las primeras 5 filas\n",
    "tarea = pd.read_csv(\"tarea.csv\")\n",
    "tarea.head()\n"
   ]
  },
  {
   "cell_type": "code",
   "execution_count": null,
   "metadata": {
    "colab": {
     "base_uri": "https://localhost:8080/",
     "height": 143
    },
    "id": "rJVHs7_iwj46",
    "outputId": "b0074c7d-b4dc-4db2-d9ba-e0971a39ced1"
   },
   "outputs": [],
   "source": [
    "# Inciso 2: mostramos solo las primeras 3 filas\n",
    "tarea.head(n=3)"
   ]
  },
  {
   "cell_type": "code",
   "execution_count": null,
   "metadata": {
    "colab": {
     "base_uri": "https://localhost:8080/",
     "height": 424
    },
    "id": "HuZjgl-KxJzR",
    "outputId": "b3cc35de-bace-4f61-bdcf-79df372df1b6"
   },
   "outputs": [],
   "source": [
    "# Inciso 3: imprimir una columna como serie\n",
    "tarea[['depth']]"
   ]
  },
  {
   "cell_type": "code",
   "execution_count": null,
   "metadata": {
    "colab": {
     "base_uri": "https://localhost:8080/",
     "height": 424
    },
    "id": "XIBy4WdIzK9H",
    "outputId": "8775d5b3-b2ea-4276-ab3c-4cd9d6c3a77d"
   },
   "outputs": [],
   "source": [
    "# Inciso 4: creamos una nueva serie llamada \"calidad-color\" y la mostramos (cut es calidad)\n",
    "tarea[\"calidad-color\"] = tarea[\"cut\"] + \"-\" + tarea[\"color\"]\n",
    "tarea[[\"calidad-color\"]]"
   ]
  },
  {
   "cell_type": "code",
   "execution_count": null,
   "metadata": {
    "colab": {
     "base_uri": "https://localhost:8080/"
    },
    "id": "CjFKc24fzxRM",
    "outputId": "5f42ec2e-2a48-4c5c-b855-63d656528107"
   },
   "outputs": [],
   "source": [
    "# Inciso 5: encontramos el número de filas y columnas y el tipo de datos de cada columna \n",
    "print(f\"El numero de filas es {tarea.shape[0]} y el de columnas {tarea.shape[1]}. A continuacion se presenta la columna y el tipo de datos:\") # Numero de filas y columnas\n",
    "print(tarea.dtypes) #columna y tipo de datos"
   ]
  },
  {
   "cell_type": "code",
   "execution_count": null,
   "metadata": {
    "colab": {
     "base_uri": "https://localhost:8080/",
     "height": 175
    },
    "id": "j3ewla0P26mc",
    "outputId": "fb250726-785c-4ef1-bdae-be128293f684"
   },
   "outputs": [],
   "source": [
    "# Inciso 6: Describimos aquellas columnas cuyos datos sean de tipo 'objetct'\n",
    "tarea.describe(include=[\"object\"])\n"
   ]
  },
  {
   "cell_type": "code",
   "execution_count": null,
   "metadata": {
    "colab": {
     "base_uri": "https://localhost:8080/"
    },
    "id": "jyNQ7R281syR",
    "outputId": "6e87e0f4-e623-4c99-cdc7-402e05fd3f69"
   },
   "outputs": [],
   "source": [
    "# Inciso 7: Renombramos dos columnas y mostramos el antes y despues\n",
    "tareasincambios=tarea.copy() #guardamos datos en otro data frame\n",
    "tarea.rename(columns={\"cut\":\"quality\",\"calidad-color\":\"quality-color\"}, inplace=True) #renombramos dos columnas\n",
    "print(\"Sin cambios:\")\n",
    "print(tareasincambios.head()) #mostramos el data frame anterior\n",
    "print(\"Con columnas renombradas:\")\n",
    "print(tarea.head()) #mostramos el data frame con columnas renombradas\n"
   ]
  },
  {
   "cell_type": "code",
   "execution_count": null,
   "metadata": {
    "colab": {
     "base_uri": "https://localhost:8080/",
     "height": 424
    },
    "id": "p-k6-xLa7sM-",
    "outputId": "7d75f1f6-c797-4aec-8b5f-60c127377397"
   },
   "outputs": [],
   "source": [
    "# Inciso 8: Eliminamos columnas 2 y 3 (no queda guardado)\n",
    "tarea.drop(tarea.iloc[:, 1:2],axis = 1)"
   ]
  },
  {
   "cell_type": "code",
   "execution_count": null,
   "metadata": {
    "colab": {
     "base_uri": "https://localhost:8080/",
     "height": 424
    },
    "id": "5QqSkfUW96gP",
    "outputId": "629dfe0a-ddd2-4eb5-fbdb-eae4d7f36b57"
   },
   "outputs": [],
   "source": [
    "# Inciso 9: Eliminamos multiples filas (no se guarda)\n",
    "tarea.drop([223,224],axis = 0)"
   ]
  },
  {
   "cell_type": "code",
   "execution_count": null,
   "metadata": {
    "colab": {
     "base_uri": "https://localhost:8080/",
     "height": 424
    },
    "id": "cwKA_F7o-Ya5",
    "outputId": "223b1180-ad5d-4ebd-f688-c5f66a467bce"
   },
   "outputs": [],
   "source": [
    "#Inciso 10: Ordeno \"cut\" en orden ascendente, que ahora es \"quality\" \n",
    "tarea[[\"quality\"]].sort_values(\"quality\")"
   ]
  },
  {
   "cell_type": "code",
   "execution_count": null,
   "metadata": {
    "colab": {
     "base_uri": "https://localhost:8080/",
     "height": 424
    },
    "id": "XYyXHWoR_1Qy",
    "outputId": "8c03db67-e78c-4d02-8900-6c304930338b"
   },
   "outputs": [],
   "source": [
    "# Inciso 11: Ordeno todo en orden descendente de carat\n",
    "tarea.sort_values(by=\"carat\",ascending=False)"
   ]
  },
  {
   "cell_type": "code",
   "execution_count": null,
   "metadata": {
    "colab": {
     "base_uri": "https://localhost:8080/",
     "height": 424
    },
    "id": "AUASpOxVAXUQ",
    "outputId": "b5f35f15-23c5-4989-994f-c556c100e876"
   },
   "outputs": [],
   "source": [
    "#Inciso 12: Filtramos filas tal que x>5, y>5 y z>5\n",
    "tarea[(tarea[\"x\"]>5) & (tarea[\"y\"]>5) & (tarea[\"z\"]>5)]"
   ]
  },
  {
   "cell_type": "code",
   "execution_count": null,
   "metadata": {
    "colab": {
     "base_uri": "https://localhost:8080/",
     "height": 478
    },
    "id": "jyPst143BxmB",
    "outputId": "38474c42-5051-4914-ece2-be4c7a024740"
   },
   "outputs": [],
   "source": [
    "# Inciso 13: Filtramos las filas para que sólo muestren `carat’ mayor a 0,4.\n",
    "tarea13=tarea.copy() #Creamos una copia\n",
    "for x in tarea.carat:  #Usamos el inicio de for loop de la consigna\n",
    "  if x<0.4:             #Condicionamos a los valores pedidos\n",
    "    tarea13.drop(tarea13.index[[tarea13.carat == x]].tolist(), inplace=True) \n",
    "'''\n",
    "Este loop corre a traves de todos los valores de tarea.carat aunque esten \n",
    "repetidos, busca en la copia los indices que tengan ese valor y elimina dichas\n",
    "filas de la copia de 'tarea'. Es totalmente ineficiente y tarda una eternidad.\n",
    "'''\n",
    "tarea13"
   ]
  },
  {
   "cell_type": "code",
   "execution_count": null,
   "metadata": {
    "colab": {
     "base_uri": "https://localhost:8080/",
     "height": 424
    },
    "id": "qDz-tSnGPqrP",
    "outputId": "45246d9f-9df6-4f52-a4a6-e45f969a6785"
   },
   "outputs": [],
   "source": [
    "# Inciso 14: Filtramos filas que son Premium o Ideal. Recordar que cambiamos cut por quality. \n",
    "tarea[((tarea[\"quality\"]==\"Premium\")|(tarea[\"quality\"]==\"Ideal\"))]"
   ]
  },
  {
   "cell_type": "code",
   "execution_count": null,
   "metadata": {
    "colab": {
     "base_uri": "https://localhost:8080/",
     "height": 300
    },
    "id": "i7M-v0DqSXiU",
    "outputId": "da9342a9-cf04-433b-a0cc-2cbd057a36db"
   },
   "outputs": [],
   "source": [
    "#Inciso 15: Summary Statistics de 'carat'\n",
    "tarea.carat.describe()"
   ]
  },
  {
   "cell_type": "code",
   "execution_count": null,
   "metadata": {
    "colab": {
     "base_uri": "https://localhost:8080/",
     "height": 424
    },
    "id": "nX_C58orSszw",
    "outputId": "6946f6bc-89e9-4a4a-fe4e-c72b1e4a8b3f"
   },
   "outputs": [],
   "source": [
    "#Inciso 16: Calculamos la media de las columnas numericas\n",
    "tarea[tarea.select_dtypes('float').columns.to_list()].mean() #Filtramos las columnas cuyo tipo sea float y calculamos sus medias"
   ]
  },
  {
   "cell_type": "code",
   "execution_count": null,
   "metadata": {
    "colab": {
     "base_uri": "https://localhost:8080/",
     "height": 237
    },
    "id": "6E2xKc78UZop",
    "outputId": "41484c21-e9ae-4ca8-a3e9-323317e7c1c1"
   },
   "outputs": [],
   "source": [
    "#Inciso 17: Media de precio por cada tipo de 'cut' ('quality' ahora)\n",
    "tarea.groupby('quality').price.agg(['mean'])"
   ]
  },
  {
   "cell_type": "code",
   "execution_count": null,
   "metadata": {
    "colab": {
     "base_uri": "https://localhost:8080/",
     "height": 237
    },
    "id": "fHL02sq4UzyT",
    "outputId": "569abe56-befb-4135-d3af-42f8027afeef"
   },
   "outputs": [],
   "source": [
    "#Inciso 18: Calculamos la cantidad, el mínimo y el máximo precio para cada 'cut’ (quality)\n",
    "tarea.groupby('quality').price.agg(['count', 'min', 'max'])"
   ]
  },
  {
   "cell_type": "code",
   "execution_count": null,
   "metadata": {
    "colab": {
     "base_uri": "https://localhost:8080/"
    },
    "id": "xN38iSU9VG4a",
    "outputId": "3f3e47a0-629b-45bb-bbd9-a0b119c02598"
   },
   "outputs": [],
   "source": [
    "#Inciso 19: Mostramos que valores puede tomar 'cut' ('quality')\n",
    "tarea.quality.unique().tolist()"
   ]
  },
  {
   "cell_type": "code",
   "execution_count": null,
   "metadata": {
    "colab": {
     "base_uri": "https://localhost:8080/"
    },
    "id": "BgbYwHs9Vl9E",
    "outputId": "a01dd80d-c4e7-44d1-e974-78f504926870"
   },
   "outputs": [],
   "source": [
    "#inciso 20: Mostramos cuantas veces aparece cada valor de cut ('quality')\n",
    "tarea.quality.value_counts()"
   ]
  },
  {
   "cell_type": "code",
   "execution_count": null,
   "metadata": {
    "colab": {
     "base_uri": "https://localhost:8080/"
    },
    "id": "7M_faYYYV0kc",
    "outputId": "85397c7d-7d43-4a03-ed27-53b9c0c4d212"
   },
   "outputs": [],
   "source": [
    "#Inciso 21: Mostramos que porcentaje del total representa cada valor de cut ('quality')\n",
    "100 * tarea.quality.value_counts()/ tarea.quality.value_counts().sum()"
   ]
  },
  {
   "cell_type": "code",
   "execution_count": null,
   "metadata": {
    "colab": {
     "base_uri": "https://localhost:8080/",
     "height": 237
    },
    "id": "faj18dZqWtAX",
    "outputId": "604d3b3d-142e-4369-cf47-7071de838a3a"
   },
   "outputs": [],
   "source": [
    "#Inciso 22:Tabla de doble entrada de cut (quality) y color\n",
    "pd.crosstab(tarea.quality, tarea.color)"
   ]
  },
  {
   "cell_type": "code",
   "execution_count": null,
   "metadata": {
    "id": "zmqhE_l3W1aM"
   },
   "outputs": [],
   "source": []
  }
 ],
 "metadata": {
  "colab": {
   "include_colab_link": true,
   "name": "Tarea 1 Sury-Liwski.ipynb",
   "provenance": []
  },
  "kernelspec": {
   "display_name": "Python 3",
   "language": "python",
   "name": "python3"
  },
  "language_info": {
   "codemirror_mode": {
    "name": "ipython",
    "version": 3
   },
   "file_extension": ".py",
   "mimetype": "text/x-python",
   "name": "python",
   "nbconvert_exporter": "python",
   "pygments_lexer": "ipython3",
   "version": "3.8.8"
  }
 },
 "nbformat": 4,
 "nbformat_minor": 1
}
